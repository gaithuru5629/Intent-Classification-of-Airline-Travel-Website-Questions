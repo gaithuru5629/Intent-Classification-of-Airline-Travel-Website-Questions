{
 "cells": [
  {
   "cell_type": "markdown",
   "id": "7e8c5b66-2905-47cc-9215-eb306ed73bbb",
   "metadata": {},
   "source": [
    "# Intent Classification of Airline Travel Website Questions\n",
    "By Suet Ying Lee, Juliet Gaithuru and Jennifer Isoa"
   ]
  },
  {
   "cell_type": "code",
   "execution_count": 30,
   "id": "4873de7b-8240-496d-9953-9b07410cf0af",
   "metadata": {},
   "outputs": [],
   "source": [
    "#!pip install tensorflow --ignore-installed"
   ]
  },
  {
   "cell_type": "code",
   "execution_count": 6,
   "id": "d37ab248-7c14-482e-83d6-457c43469dd2",
   "metadata": {},
   "outputs": [],
   "source": [
    "# Import libraries\n",
    "\n",
    "import pandas as pd\n",
    "import numpy as np\n",
    "import matplotlib.pyplot as plt\n",
    "\n",
    "#Training, testing\n",
    "from sklearn.model_selection import train_test_split\n",
    "\n",
    "#For NLP\n",
    "import tensorflow.keras.preprocessing\n",
    "from tensorflow.keras.preprocessing.text import Tokenizer\n",
    "from tensorflow.keras.preprocessing.sequence import pad_sequences\n",
    "from sklearn.preprocessing import OneHotEncoder,LabelEncoder\n",
    "\n",
    "from tensorflow.keras.models import Sequential\n",
    "from tensorflow.keras.layers import Dense, Input, Dropout, LSTM, Activation, Bidirectional,Embedding"
   ]
  },
  {
   "cell_type": "markdown",
   "id": "6249f503-60b8-4dc7-a303-b93063f75863",
   "metadata": {
    "tags": []
   },
   "source": [
    "## Loading data"
   ]
  },
  {
   "cell_type": "code",
   "execution_count": 7,
   "id": "855d1f0b-1494-4333-8747-95e6b0bca065",
   "metadata": {
    "tags": []
   },
   "outputs": [
    {
     "data": {
      "text/html": [
       "<div>\n",
       "<style scoped>\n",
       "    .dataframe tbody tr th:only-of-type {\n",
       "        vertical-align: middle;\n",
       "    }\n",
       "\n",
       "    .dataframe tbody tr th {\n",
       "        vertical-align: top;\n",
       "    }\n",
       "\n",
       "    .dataframe thead th {\n",
       "        text-align: right;\n",
       "    }\n",
       "</style>\n",
       "<table border=\"1\" class=\"dataframe\">\n",
       "  <thead>\n",
       "    <tr style=\"text-align: right;\">\n",
       "      <th></th>\n",
       "      <th>question_category</th>\n",
       "      <th>question</th>\n",
       "    </tr>\n",
       "  </thead>\n",
       "  <tbody>\n",
       "    <tr>\n",
       "      <th>0</th>\n",
       "      <td>atis_flight</td>\n",
       "      <td>what flights are available from pittsburgh to...</td>\n",
       "    </tr>\n",
       "    <tr>\n",
       "      <th>1</th>\n",
       "      <td>atis_flight_time</td>\n",
       "      <td>what is the arrival time in san francisco for...</td>\n",
       "    </tr>\n",
       "    <tr>\n",
       "      <th>2</th>\n",
       "      <td>atis_airfare</td>\n",
       "      <td>cheapest airfare from tacoma to orlando</td>\n",
       "    </tr>\n",
       "    <tr>\n",
       "      <th>3</th>\n",
       "      <td>atis_airfare</td>\n",
       "      <td>round trip fares from pittsburgh to philadelp...</td>\n",
       "    </tr>\n",
       "    <tr>\n",
       "      <th>4</th>\n",
       "      <td>atis_flight</td>\n",
       "      <td>i need a flight tomorrow from columbus to min...</td>\n",
       "    </tr>\n",
       "  </tbody>\n",
       "</table>\n",
       "</div>"
      ],
      "text/plain": [
       "  question_category                                           question\n",
       "0       atis_flight   what flights are available from pittsburgh to...\n",
       "1  atis_flight_time   what is the arrival time in san francisco for...\n",
       "2      atis_airfare            cheapest airfare from tacoma to orlando\n",
       "3      atis_airfare   round trip fares from pittsburgh to philadelp...\n",
       "4       atis_flight   i need a flight tomorrow from columbus to min..."
      ]
     },
     "execution_count": 7,
     "metadata": {},
     "output_type": "execute_result"
    }
   ],
   "source": [
    "# Read data using pandas\n",
    "\n",
    "df=pd.read_csv('atis_intents.csv')\n",
    "df.columns = [\"question_category\", \"question\"]\n",
    "df.head()"
   ]
  },
  {
   "cell_type": "markdown",
   "id": "93fbae69-fa4e-4238-911c-b0c56db400c1",
   "metadata": {},
   "source": [
    "## Exploratory Data Analysis"
   ]
  },
  {
   "cell_type": "code",
   "execution_count": 8,
   "id": "a179e7bc-4a8a-4210-b379-0697339706c4",
   "metadata": {},
   "outputs": [
    {
     "data": {
      "text/plain": [
       "(4977, 2)"
      ]
     },
     "execution_count": 8,
     "metadata": {},
     "output_type": "execute_result"
    }
   ],
   "source": [
    "df.shape"
   ]
  },
  {
   "cell_type": "code",
   "execution_count": 9,
   "id": "f0a97fc5-9070-44ad-89c2-0292b9eed57f",
   "metadata": {},
   "outputs": [
    {
     "data": {
      "text/plain": [
       "question_category    object\n",
       "question             object\n",
       "dtype: object"
      ]
     },
     "execution_count": 9,
     "metadata": {},
     "output_type": "execute_result"
    }
   ],
   "source": [
    "# To explore the datatype of each column\n",
    "\n",
    "df.dtypes\n",
    "#df.info()"
   ]
  },
  {
   "cell_type": "markdown",
   "id": "421d20b8-1e99-4bd1-8c3d-bc7f0b7f4433",
   "metadata": {},
   "source": [
    "We can see that most of our data types are in a suitable format for machine learning except for columns having object type, and we'd need to carry out some preprocessing on them using sklearn or drop them if we consider them unimportant for our analysis."
   ]
  },
  {
   "cell_type": "code",
   "execution_count": 10,
   "id": "a26e13bb-6ba0-438f-b427-bdb034ab4844",
   "metadata": {},
   "outputs": [
    {
     "data": {
      "text/html": [
       "<div>\n",
       "<style scoped>\n",
       "    .dataframe tbody tr th:only-of-type {\n",
       "        vertical-align: middle;\n",
       "    }\n",
       "\n",
       "    .dataframe tbody tr th {\n",
       "        vertical-align: top;\n",
       "    }\n",
       "\n",
       "    .dataframe thead th {\n",
       "        text-align: right;\n",
       "    }\n",
       "</style>\n",
       "<table border=\"1\" class=\"dataframe\">\n",
       "  <thead>\n",
       "    <tr style=\"text-align: right;\">\n",
       "      <th></th>\n",
       "      <th>question_category</th>\n",
       "      <th>question</th>\n",
       "    </tr>\n",
       "  </thead>\n",
       "  <tbody>\n",
       "    <tr>\n",
       "      <th>count</th>\n",
       "      <td>4977</td>\n",
       "      <td>4977</td>\n",
       "    </tr>\n",
       "    <tr>\n",
       "      <th>unique</th>\n",
       "      <td>22</td>\n",
       "      <td>4633</td>\n",
       "    </tr>\n",
       "    <tr>\n",
       "      <th>top</th>\n",
       "      <td>atis_flight</td>\n",
       "      <td>what is fare code h</td>\n",
       "    </tr>\n",
       "    <tr>\n",
       "      <th>freq</th>\n",
       "      <td>3665</td>\n",
       "      <td>8</td>\n",
       "    </tr>\n",
       "  </tbody>\n",
       "</table>\n",
       "</div>"
      ],
      "text/plain": [
       "       question_category              question\n",
       "count               4977                  4977\n",
       "unique                22                  4633\n",
       "top          atis_flight   what is fare code h\n",
       "freq                3665                     8"
      ]
     },
     "execution_count": 10,
     "metadata": {},
     "output_type": "execute_result"
    }
   ],
   "source": [
    "df.describe()"
   ]
  },
  {
   "cell_type": "code",
   "execution_count": 11,
   "id": "40c1d1c6-2840-45c8-ad7e-7af11cc3db69",
   "metadata": {},
   "outputs": [],
   "source": [
    "# Drop duplicates if it exists\n",
    "\n",
    "#df.drop_duplicates(inplace=True)"
   ]
  },
  {
   "cell_type": "code",
   "execution_count": 12,
   "id": "79b76252-6906-4534-b90f-25373a12b5f3",
   "metadata": {},
   "outputs": [
    {
     "data": {
      "text/plain": [
       "(4977, 2)"
      ]
     },
     "execution_count": 12,
     "metadata": {},
     "output_type": "execute_result"
    }
   ],
   "source": [
    "df.shape  # there are no duplicate rows since our data dimension did not reduce "
   ]
  },
  {
   "cell_type": "markdown",
   "id": "40c8cc3d-945a-4a37-9b90-664a82db06f8",
   "metadata": {},
   "source": [
    "### Defining the text and the labels"
   ]
  },
  {
   "cell_type": "code",
   "execution_count": 13,
   "id": "f762c033-8112-404d-9adc-2ef67d9adbce",
   "metadata": {
    "tags": []
   },
   "outputs": [],
   "source": [
    "text = df[\"question_category\"]\n",
    "labels = df[\"question\"]"
   ]
  },
  {
   "cell_type": "code",
   "execution_count": 14,
   "id": "fd51f95e-8d21-49ec-a106-2ce44568be9b",
   "metadata": {},
   "outputs": [
    {
     "data": {
      "text/plain": [
       "0     what flights are available from pittsburgh to...\n",
       "1     what is the arrival time in san francisco for...\n",
       "2              cheapest airfare from tacoma to orlando\n",
       "3     round trip fares from pittsburgh to philadelp...\n",
       "4     i need a flight tomorrow from columbus to min...\n",
       "Name: question, dtype: object"
      ]
     },
     "execution_count": 14,
     "metadata": {},
     "output_type": "execute_result"
    }
   ],
   "source": [
    "text.head()\n",
    "labels.head()"
   ]
  },
  {
   "cell_type": "markdown",
   "id": "34f50b25-95d8-45d3-9d5a-2d1e570ad85b",
   "metadata": {},
   "source": [
    "### Splitting into training and test data"
   ]
  },
  {
   "cell_type": "code",
   "execution_count": 15,
   "id": "55a5e382-d4e0-438d-80e9-03a830286d55",
   "metadata": {},
   "outputs": [],
   "source": [
    "train_text,test_text,train_labels,test_labels = train_test_split(text,labels,test_size = 0.3)"
   ]
  },
  {
   "cell_type": "markdown",
   "id": "aafe8664-a3e1-4d52-bcf6-4503018bdbe8",
   "metadata": {},
   "source": [
    "### Preprocessing the data by tokenizing the dataset\n",
    "\n",
    "Breaking down sentences into numerical representations"
   ]
  },
  {
   "cell_type": "code",
   "execution_count": 16,
   "id": "2daccf56-954b-4dc7-83e5-c379d69f009b",
   "metadata": {},
   "outputs": [],
   "source": [
    "max_num_words = 40000\n",
    "classes = np.unique(labels)\n",
    "\n",
    "tokenizer = Tokenizer(num_words=max_num_words)\n",
    "tokenizer.fit_on_texts(train_text)\n",
    "word_index = tokenizer.word_index"
   ]
  },
  {
   "cell_type": "markdown",
   "id": "2ba83510-5c74-473b-925c-382fd3dd0ce4",
   "metadata": {},
   "source": [
    "#### Padding all training phrases with 0 so that all phrases are the same length. This makes it digestible by the deep learning model."
   ]
  },
  {
   "cell_type": "code",
   "execution_count": 17,
   "id": "0b79da05-a0ec-41d4-8732-8b689b341d1c",
   "metadata": {},
   "outputs": [],
   "source": [
    "lst=[]\n",
    "for c in train_text:\n",
    "    lst.append(len(c.split()))\n",
    "maxLen=int(np.percentile(lst, 98))\n",
    "train_sequences = tokenizer.texts_to_sequences(train_text)\n",
    "train_sequences = pad_sequences(train_sequences, maxlen=maxLen, padding='post')\n",
    "test_sequences = tokenizer.texts_to_sequences(test_text)\n",
    "test_sequences = pad_sequences(test_sequences, maxlen=maxLen, padding='post')"
   ]
  },
  {
   "cell_type": "code",
   "execution_count": 18,
   "id": "ba8d7037-d9ed-48b9-affc-228b25f4de4e",
   "metadata": {},
   "outputs": [
    {
     "data": {
      "text/plain": [
       "[1, 1, 1, 1, 1]"
      ]
     },
     "execution_count": 18,
     "metadata": {},
     "output_type": "execute_result"
    }
   ],
   "source": [
    "lst[:5]"
   ]
  },
  {
   "cell_type": "markdown",
   "id": "001a55b7-2755-4339-980e-17b5e63a9bbe",
   "metadata": {},
   "source": [
    "#### Converting the labels into one-hot encoding"
   ]
  },
  {
   "cell_type": "code",
   "execution_count": 19,
   "id": "6b146478-41a9-4ab5-a7e2-de8a6e8db1ca",
   "metadata": {},
   "outputs": [],
   "source": [
    "label_encoder = LabelEncoder()\n",
    "integer_encoded = label_encoder.fit_transform(classes)\n",
    "\n",
    "onehot_encoder = OneHotEncoder(sparse=False)\n",
    "integer_encoded = integer_encoded.reshape(len(integer_encoded), 1)\n",
    "onehot_encoder.fit(integer_encoded)\n",
    "train_label_encoded = label_encoder.transform(train_labels)\n",
    "train_label_encoded = train_label_encoded.reshape(len(train_label_encoded), 1)\n",
    "train_labels = onehot_encoder.transform(train_label_encoded)\n",
    "\n",
    "test_labels_encoded = label_encoder.transform(test_labels)\n",
    "test_labels_encoded = test_labels_encoded.reshape(len(test_labels_encoded), 1)\n",
    "test_labels = onehot_encoder.transform(test_labels_encoded)"
   ]
  },
  {
   "cell_type": "code",
   "execution_count": 20,
   "id": "5ec78247-1661-4c94-8f7d-561a6264bded",
   "metadata": {},
   "outputs": [],
   "source": [
    "#training: train_sequences, train_labels\n",
    "#testing: test_sequences, test_labels"
   ]
  },
  {
   "cell_type": "code",
   "execution_count": 21,
   "id": "ca050151-69e8-4e64-a44d-f94d86365cb0",
   "metadata": {},
   "outputs": [
    {
     "data": {
      "text/plain": [
       "Text(0, 0.5, 'Frequency')"
      ]
     },
     "execution_count": 21,
     "metadata": {},
     "output_type": "execute_result"
    },
    {
     "data": {
      "image/png": "[encoded data removed]",
      "text/plain": [
       "<Figure size 640x480 with 1 Axes>"
      ]
     },
     "metadata": {},
     "output_type": "display_data"
    }
   ],
   "source": [
    "import matplotlib.pyplot as plt\n",
    "import seaborn as sns\n",
    "\n",
    "# matplotlib histogram\n",
    "plt.hist(test_sequences)\n",
    "\n",
    "# Add labels\n",
    "plt.title('Histogram of Intent Labels')\n",
    "plt.xlabel('Intent Types')\n",
    "plt.ylabel('Frequency')"
   ]
  },
  {
   "cell_type": "markdown",
   "id": "e91fd526-d429-44ff-ac47-01f49806223f",
   "metadata": {},
   "source": [
    "### Using GloVe to enhance learning.\n",
    "\n",
    "GloVe (Global Vectors for Word Representation) is an unsupervised learning algorithm for obtaining vector representations for words. \n",
    "Training is performed on aggregated global word-word co-occurrence statistics from a corpus."
   ]
  },
  {
   "cell_type": "code",
   "execution_count": 22,
   "id": "7eadae68-5e1b-4f64-bdb6-89f5d4cddc48",
   "metadata": {},
   "outputs": [],
   "source": [
    "#!pip install wget"
   ]
  },
  {
   "cell_type": "code",
   "execution_count": null,
   "id": "74aabd40-0b1f-44b0-9ed2-6079c70240d0",
   "metadata": {},
   "outputs": [],
   "source": [
    "import wget\n",
    "\n",
    "url ='https://www.dropbox.com/s/a247ju2qsczh0be/glove.6B.100d.txt?dl=1'\n",
    "wget.download(url)"
   ]
  },
  {
   "cell_type": "code",
   "execution_count": 23,
   "id": "78c7feeb-39ef-4a99-85e8-75403ed121fe",
   "metadata": {},
   "outputs": [],
   "source": [
    "#storing wget in a Python dictionary\n",
    "embeddings_index={}\n",
    "with open('glove.6B.100d.txt', encoding='utf8') as f:\n",
    "    for line in f:\n",
    "        values = line.split()\n",
    "        word = values[0]\n",
    "        coefs = np.asarray(values[1:], dtype='float32')\n",
    "        embeddings_index[word] = coefs"
   ]
  },
  {
   "cell_type": "markdown",
   "id": "a6bdc915-ed99-481c-ac6d-621e70841bb3",
   "metadata": {},
   "source": [
    "#### GloVe contains vector representation of all the words from a large corpus. We only need those word vectors present in our corpus.\n",
    "We will create an embedding matrix containing vector representations of words present in our dataset only."
   ]
  },
  {
   "cell_type": "code",
   "execution_count": 24,
   "id": "63694854-84fb-46a7-970e-57aaba578cf3",
   "metadata": {},
   "outputs": [
    {
     "name": "stderr",
     "output_type": "stream",
     "text": [
      "C:\\Users\\jngai\\anaconda3\\lib\\site-packages\\IPython\\core\\interactiveshell.py:3377: FutureWarning: arrays to stack must be passed as a \"sequence\" type such as list or tuple. Support for non-sequence iterables such as generators is deprecated as of NumPy 1.16 and will raise an error in the future.\n",
      "  if (await self.run_code(code, result,  async_=asy)):\n"
     ]
    }
   ],
   "source": [
    "all_embs = np.stack(embeddings_index.values())\n",
    "emb_mean,emb_std = all_embs.mean(), all_embs.std()\n",
    "num_words = min(max_num_words, len(word_index))+1\n",
    "embedding_dim=len(embeddings_index['the'])\n",
    "embedding_matrix = np.random.normal(emb_mean, emb_std, (num_words, embedding_dim))\n",
    "for word, i in word_index.items():\n",
    "    if i >= max_num_words:\n",
    "        break\n",
    "    embedding_vector = embeddings_index.get(word)\n",
    "    if embedding_vector is not None:\n",
    "        embedding_matrix[i] = embedding_vector"
   ]
  },
  {
   "cell_type": "markdown",
   "id": "e6ddf53d-bd9a-4208-bf76-c1c4348850a5",
   "metadata": {
    "tags": []
   },
   "source": [
    "### Model Training and Validation"
   ]
  },
  {
   "cell_type": "markdown",
   "id": "fc395d80-d9b7-418c-99f6-f4f2a3d77341",
   "metadata": {},
   "source": [
    "#### Creating a model with an embedding layer made up of weighted encoding."
   ]
  },
  {
   "cell_type": "code",
   "execution_count": 25,
   "id": "85b18567-cd0e-4f37-b797-29cdd2b3f33a",
   "metadata": {},
   "outputs": [],
   "source": [
    "model = Sequential()\n",
    "\n",
    "model.add(Embedding(num_words, 100, trainable=False,input_length=train_sequences.shape[1], weights=[embedding_matrix]))\n",
    "model.add(Bidirectional(LSTM(256, return_sequences=True, recurrent_dropout=0.1, dropout=0.1), 'concat'))\n",
    "model.add(Dropout(0.3))\n",
    "model.add(LSTM(256, return_sequences=False, recurrent_dropout=0.1, dropout=0.1))\n",
    "model.add(Dropout(0.3))\n",
    "model.add(Dense(50, activation='tanh'))\n",
    "model.add(Dropout(0.3))\n",
    "model.add(Dense(classes.shape[0], activation='softmax'))\n",
    "model.compile(loss='categorical_crossentropy', optimizer='adam', metrics=['acc'])"
   ]
  },
  {
   "cell_type": "code",
   "execution_count": 26,
   "id": "1f31e258-a067-4538-b0de-3ff6450651d3",
   "metadata": {
    "tags": []
   },
   "outputs": [
    {
     "name": "stdout",
     "output_type": "stream",
     "text": [
      "Epoch 1/20\n",
      "28/28 [==============================] - 6s 57ms/step - loss: 8.4446 - acc: 0.0000e+00 - val_loss: 8.4401 - val_acc: 0.0000e+00\n",
      "Epoch 2/20\n",
      "28/28 [==============================] - 1s 40ms/step - loss: 8.4311 - acc: 8.6133e-04 - val_loss: 8.6254 - val_acc: 6.6934e-04\n",
      "Epoch 3/20\n",
      "28/28 [==============================] - 1s 36ms/step - loss: 8.3232 - acc: 0.0014 - val_loss: 9.5141 - val_acc: 6.6934e-04\n",
      "Epoch 4/20\n",
      "28/28 [==============================] - 1s 36ms/step - loss: 8.1573 - acc: 0.0011 - val_loss: 9.9992 - val_acc: 0.0013\n",
      "Epoch 5/20\n",
      "28/28 [==============================] - 1s 35ms/step - loss: 8.0261 - acc: 0.0029 - val_loss: 10.0599 - val_acc: 0.0013\n",
      "Epoch 6/20\n",
      "28/28 [==============================] - 1s 37ms/step - loss: 7.9205 - acc: 0.0052 - val_loss: 10.4048 - val_acc: 0.0020\n",
      "Epoch 7/20\n",
      "28/28 [==============================] - 1s 36ms/step - loss: 7.8422 - acc: 0.0049 - val_loss: 10.3419 - val_acc: 0.0020\n",
      "Epoch 8/20\n",
      "28/28 [==============================] - 1s 36ms/step - loss: 7.7690 - acc: 0.0037 - val_loss: 10.8820 - val_acc: 0.0020\n",
      "Epoch 9/20\n",
      "28/28 [==============================] - 1s 36ms/step - loss: 7.7057 - acc: 0.0049 - val_loss: 10.6984 - val_acc: 0.0020\n",
      "Epoch 10/20\n",
      "28/28 [==============================] - 1s 36ms/step - loss: 7.6594 - acc: 0.0043 - val_loss: 10.8429 - val_acc: 0.0020\n",
      "Epoch 11/20\n",
      "28/28 [==============================] - 1s 35ms/step - loss: 7.6165 - acc: 0.0063 - val_loss: 10.9399 - val_acc: 0.0020\n",
      "Epoch 12/20\n",
      "28/28 [==============================] - 1s 38ms/step - loss: 7.5785 - acc: 0.0066 - val_loss: 11.1545 - val_acc: 0.0020\n",
      "Epoch 13/20\n",
      "28/28 [==============================] - 1s 37ms/step - loss: 7.5438 - acc: 0.0075 - val_loss: 11.1741 - val_acc: 0.0020\n",
      "Epoch 14/20\n",
      "28/28 [==============================] - 1s 36ms/step - loss: 7.5112 - acc: 0.0066 - val_loss: 11.3913 - val_acc: 0.0020\n",
      "Epoch 15/20\n",
      "28/28 [==============================] - 1s 39ms/step - loss: 7.4839 - acc: 0.0066 - val_loss: 11.2331 - val_acc: 0.0020\n",
      "Epoch 16/20\n",
      "28/28 [==============================] - 1s 46ms/step - loss: 7.4578 - acc: 0.0078 - val_loss: 11.5139 - val_acc: 0.0020\n",
      "Epoch 17/20\n",
      "28/28 [==============================] - 1s 43ms/step - loss: 7.4404 - acc: 0.0069 - val_loss: 11.5121 - val_acc: 0.0027\n",
      "Epoch 18/20\n",
      "28/28 [==============================] - 1s 43ms/step - loss: 7.4143 - acc: 0.0075 - val_loss: 11.5409 - val_acc: 0.0020\n",
      "Epoch 19/20\n",
      "28/28 [==============================] - 1s 45ms/step - loss: 7.4061 - acc: 0.0066 - val_loss: 11.6948 - val_acc: 0.0020\n",
      "Epoch 20/20\n",
      "28/28 [==============================] - 1s 46ms/step - loss: 7.3791 - acc: 0.0083 - val_loss: 11.7219 - val_acc: 0.0013\n"
     ]
    }
   ],
   "source": [
    "trained_model = model.fit(train_sequences, train_labels, epochs = 20, batch_size = 128, shuffle=True, validation_data=[test_sequences, test_labels])"
   ]
  },
  {
   "cell_type": "markdown",
   "id": "f03fed86-e682-4185-873b-111e86e34fd8",
   "metadata": {},
   "source": [
    "### Visualizing the accuracy of the trained model"
   ]
  },
  {
   "cell_type": "code",
   "execution_count": 27,
   "id": "11ef4540-2439-44bb-a940-31c5ea0a7a82",
   "metadata": {},
   "outputs": [
    {
     "data": {
      "image/png": "[encoded data removed]",
      "text/plain": [
       "<Figure size 640x480 with 1 Axes>"
      ]
     },
     "metadata": {},
     "output_type": "display_data"
    }
   ],
   "source": [
    "plt.plot(trained_model.history['acc'])\n",
    "plt.plot(trained_model.history['val_acc'])\n",
    "plt.title('Model Accuracy')\n",
    "plt.ylabel('Accuracy')\n",
    "plt.xlabel('Epoch')\n",
    "plt.legend(['Train', 'Validation'], loc='upper left')\n",
    "plt.show()"
   ]
  },
  {
   "cell_type": "markdown",
   "id": "6945a7d2-db4e-4621-a6d9-8f23e8b23701",
   "metadata": {},
   "source": [
    "### Visualizing the loss of the trained model"
   ]
  },
  {
   "cell_type": "code",
   "execution_count": 28,
   "id": "9840f37e-d23a-4aec-90b8-cb956efa56e0",
   "metadata": {},
   "outputs": [
    {
     "data": {
      "image/png": "[encoded data removed]",
      "text/plain": [
       "<Figure size 640x480 with 1 Axes>"
      ]
     },
     "metadata": {},
     "output_type": "display_data"
    }
   ],
   "source": [
    "plt.plot(trained_model.history['loss'])\n",
    "plt.plot(trained_model.history['val_loss'])\n",
    "plt.title('Model Loss')\n",
    "plt.ylabel('Loss')\n",
    "plt.xlabel('Epoch')\n",
    "plt.legend(['Train', 'Validation'], loc='upper left')\n",
    "plt.show()"
   ]
  },
  {
   "cell_type": "markdown",
   "id": "e48db759-88a4-495c-9df6-1d9db4a27e57",
   "metadata": {},
   "source": [
    "### Conclusion:\n",
    "\n",
    "This dataset is imbalanced because some question categories have very few samples, which results in the low intent classification accuracy."
   ]
  },
  {
   "cell_type": "markdown",
   "id": "9824f317-b8a0-473f-8dd8-de4c92a89d27",
   "metadata": {
    "tags": []
   },
   "source": [
    "#### References\n",
    "\n",
    "1. https://nlp.stanford.edu/projects/glove/\n",
    "2. https://towardsdatascience.com/activation-functions-neural-networks-1cbd9f8d91d6\n",
    "3. https://github.com/stanfordnlp/GloVe\n",
    "4. Dataset: https://www.kaggle.com/code/hassanamin/atis-intent-classification-using-svm-and-spacy/notebook"
   ]
  },
  {
   "cell_type": "code",
   "execution_count": null,
   "id": "ddc43db8-74e9-4dd4-a94e-e52d3163ee56",
   "metadata": {},
   "outputs": [],
   "source": []
  }
 ],
 "metadata": {
  "kernelspec": {
   "display_name": "Python 3 (ipykernel)",
   "language": "python",
   "name": "python3"
  },
  "language_info": {
   "codemirror_mode": {
    "name": "ipython",
    "version": 3
   },
   "file_extension": ".py",
   "mimetype": "text/x-python",
   "name": "python",
   "nbconvert_exporter": "python",
   "pygments_lexer": "ipython3",
   "version": "3.9.13"
  }
 },
 "nbformat": 4,
 "nbformat_minor": 5
}
